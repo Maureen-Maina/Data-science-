{
  "cells": [
    {
      "cell_type": "markdown",
      "metadata": {
        "id": "view-in-github",
        "colab_type": "text"
      },
      "source": [
        "<a href=\"https://colab.research.google.com/github/Maureen-Maina/Data-science-/blob/main/LESSON1.ipynb\" target=\"_parent\"><img src=\"https://colab.research.google.com/assets/colab-badge.svg\" alt=\"Open In Colab\"/></a>"
      ]
    },
    {
      "cell_type": "code",
      "execution_count": null,
      "metadata": {
        "colab": {
          "base_uri": "https://localhost:8080/"
        },
        "id": "ViRwNt0WAX-t",
        "outputId": "090eda0c-b720-4446-a919-7a98e61f28b7"
      },
      "outputs": [
        {
          "name": "stdout",
          "output_type": "stream",
          "text": [
            "Requirement already satisfied: numpy in /usr/local/lib/python3.10/dist-packages (1.26.4)\n"
          ]
        }
      ],
      "source": [
        "!pip install numpy"
      ]
    },
    {
      "cell_type": "code",
      "execution_count": null,
      "metadata": {
        "colab": {
          "base_uri": "https://localhost:8080/"
        },
        "id": "YckSn51nBPv1",
        "outputId": "084fa0ac-1dc5-41d4-8adc-426591c82600"
      },
      "outputs": [
        {
          "name": "stdout",
          "output_type": "stream",
          "text": [
            "Welcome to programming\n"
          ]
        }
      ],
      "source": [
        "print(\"Welcome to programming\")"
      ]
    },
    {
      "cell_type": "code",
      "execution_count": null,
      "metadata": {
        "colab": {
          "base_uri": "https://localhost:8080/"
        },
        "id": "ltK4kdTMB_8S",
        "outputId": "c7785958-004e-4e6e-b475-c35d08cd0302"
      },
      "outputs": [
        {
          "name": "stdout",
          "output_type": "stream",
          "text": [
            "Enter Marks Obtained in 5 Subjects: \n",
            "50\n",
            "50\n",
            "50\n",
            "70\n"
          ]
        }
      ],
      "source": [
        "print(\"Enter Marks Obtained in 5 Subjects: \")\n",
        "markOne = int(input())\n",
        "markTwo = int(input())\n",
        "markThree = int(input())\n",
        "markFour = int(input())\n",
        "markFive = int(input())\n",
        "tot = markOne+markTwo+markThree+markFour+markFive\n",
        "avg = tot/5\n",
        "print(\"Average=%.2f\"%avg)\n",
        "if avg>=70 and avg<=100:\n",
        "    print(\"Your Grade is A\")\n",
        "elif avg>=60 and avg<=69:print(\"Your Grade is B\")\n",
        "elif avg>=50 and avg<=59:\n",
        "    print(\"Your Grade is C\")\n",
        "elif avg>=40 and avg<=49:\n",
        "    print(\"Your Grade is D\")\n",
        "elif avg>=0 and avg<=39:\n",
        "    print(\"Your Grade is F\")\n",
        "else:\n",
        "    print(\"Invalid Input!\")"
      ]
    },
    {
      "cell_type": "code",
      "source": [
        "Import matplotlib as pot"
      ],
      "metadata": {
        "id": "HxYqwjWz-RVz"
      },
      "execution_count": null,
      "outputs": []
    }
  ],
  "metadata": {
    "colab": {
      "provenance": [],
      "include_colab_link": true
    },
    "kernelspec": {
      "display_name": "Python 3",
      "name": "python3"
    },
    "language_info": {
      "name": "python"
    }
  },
  "nbformat": 4,
  "nbformat_minor": 0
}