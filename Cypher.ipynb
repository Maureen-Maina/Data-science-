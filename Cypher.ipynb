{
  "nbformat": 4,
  "nbformat_minor": 0,
  "metadata": {
    "colab": {
      "provenance": [],
      "authorship_tag": "ABX9TyMK+p5Nl7OS9skp28R7Q2x6",
      "include_colab_link": true
    },
    "kernelspec": {
      "name": "python3",
      "display_name": "Python 3"
    },
    "language_info": {
      "name": "python"
    }
  },
  "cells": [
    {
      "cell_type": "markdown",
      "metadata": {
        "id": "view-in-github",
        "colab_type": "text"
      },
      "source": [
        "<a href=\"https://colab.research.google.com/github/Maureen-Maina/Data-science-/blob/main/Cypher.ipynb\" target=\"_parent\"><img src=\"https://colab.research.google.com/assets/colab-badge.svg\" alt=\"Open In Colab\"/></a>"
      ]
    },
    {
      "cell_type": "code",
      "execution_count": null,
      "metadata": {
        "colab": {
          "base_uri": "https://localhost:8080/"
        },
        "id": "9l1hIuxL1lzt",
        "outputId": "c5668828-2e34-41c8-8a31-cb8cbc31b0b1"
      },
      "outputs": [
        {
          "output_type": "stream",
          "name": "stdout",
          "text": [
            "Parsed grid data with dimensions (4, 3)\n",
            "█   \n",
            "█▀▀ \n",
            "█▀▀▀\n"
          ]
        }
      ],
      "source": [
        "\n",
        "import requests\n",
        "from bs4 import BeautifulSoup\n",
        "\n",
        "def fetch_doc_content(url):\n",
        "    \"\"\"Fetch content from the Google Doc URL.\"\"\"\n",
        "    response = requests.get(url)\n",
        "    if response.status_code == 200:\n",
        "        return response.text\n",
        "    else:\n",
        "        print(f\"Failed to fetch document. Status code: {response.status_code}\")\n",
        "        return None\n",
        "\n",
        "def parse_grid_data(content):\n",
        "    \"\"\"Parses grid data from the document and returns a 2D grid.\"\"\"\n",
        "    soup = BeautifulSoup(content, 'html.parser')\n",
        "    table = soup.find('table')\n",
        "\n",
        "    grid = {}\n",
        "\n",
        "    # Ensure table exists before processing\n",
        "    if table is None:\n",
        "        print(\"No table found in the document.\")\n",
        "        return None, 0, 0\n",
        "\n",
        "    for row in table.find_all('tr')[1:]:  # Skip the header row\n",
        "        cells = row.find_all('td')\n",
        "        if len(cells) < 3:\n",
        "            print(f\"Skipping invalid row: {row.text.strip()}\")\n",
        "            continue\n",
        "\n",
        "        try:\n",
        "            x = int(cells[0].text.strip())\n",
        "            char = cells[1].text.strip()\n",
        "            y = int(cells[2].text.strip())\n",
        "            grid[(x, y)] = char\n",
        "        except ValueError as e:\n",
        "            print(f\"Invalid data in row: {row.text.strip()}, error: {e}\")\n",
        "\n",
        "    if not grid:\n",
        "        print(\"No valid grid data found.\")\n",
        "        return None, 0, 0\n",
        "\n",
        "    # Determine the dimensions of the grid\n",
        "    max_x = max(key[0] for key in grid.keys()) + 1\n",
        "    max_y = max(key[1] for key in grid.keys()) + 1\n",
        "\n",
        "    # Create a character grid filled with spaces\n",
        "    character_grid = [[' ' for _ in range(max_x)] for _ in range(max_y)]\n",
        "\n",
        "    # Fill in the grid with the characters\n",
        "    for (x, y), char in grid.items():\n",
        "        character_grid[y][x] = char\n",
        "\n",
        "    return character_grid, max_x, max_y\n",
        "\n",
        "def print_character_grid(character_grid):\n",
        "    \"\"\"Prints the character grid.\"\"\"\n",
        "    if not character_grid:\n",
        "        print(\"No character grid to print.\")\n",
        "        return\n",
        "    for row in character_grid:\n",
        "        print(''.join(row))\n",
        "\n",
        "def main(doc_url):\n",
        "    \"\"\"Main function to fetch, parse, and print the character grid.\"\"\"\n",
        "    content = fetch_doc_content(doc_url)\n",
        "    if content:\n",
        "        character_grid, max_x, max_y = parse_grid_data(content)\n",
        "        if character_grid:\n",
        "            print(f\"Parsed grid data with dimensions ({max_x}, {max_y})\")\n",
        "            print_character_grid(character_grid)\n",
        "        else:\n",
        "            print(\"Failed to generate character grid.\")\n",
        "\n",
        "if __name__ == \"__main__\":\n",
        "    doc_url = \"https://docs.google.com/document/d/e/2PACX-1vRMx5YQlZNa3ra8dYYxmv-QIQ3YJe8tbI3kqcuC7lQiZm-CSEznKfN_HYNSpoXcZIV3Y_O3YoUB1ecq/pub\"\n",
        "    main(doc_url)"
      ]
    },
    {
      "cell_type": "code",
      "source": [
        "import requests\n",
        "from bs4 import BeautifulSoup\n",
        "\n",
        "def fetch_doc_content(url):\n",
        "    \"\"\"Fetch content from the Google Doc URL.\"\"\"\n",
        "    response = requests.get(url)\n",
        "    if response.status_code == 200:\n",
        "        return response.text\n",
        "    else:\n",
        "        print(f\"Failed to fetch document. Status code: {response.status_code}\")\n",
        "        return None\n",
        "\n",
        "def parse_grid_data(content):\n",
        "    \"\"\"Parses grid data from the document and returns a 2D grid.\"\"\"\n",
        "    soup = BeautifulSoup(content, 'html.parser')\n",
        "    table = soup.find('table')\n",
        "\n",
        "    grid = {}\n",
        "\n",
        "    # Ensure table exists before processing\n",
        "    if table is None:\n",
        "        print(\"No table found in the document.\")\n",
        "        return None, 0, 0\n",
        "\n",
        "    for row in table.find_all('tr')[1:]:  # Skip the header row\n",
        "        cells = row.find_all('td')\n",
        "        if len(cells) < 3:\n",
        "            print(f\"Skipping invalid row: {row.text.strip()}\")\n",
        "            continue\n",
        "\n",
        "        try:\n",
        "            x = int(cells[0].text.strip())\n",
        "            char = cells[1].text.strip()\n",
        "            y = int(cells[2].text.strip())\n",
        "            grid[(x, y)] = char\n",
        "        except ValueError as e:\n",
        "            print(f\"Invalid data in row: {row.text.strip()}, error: {e}\")\n",
        "\n",
        "    if not grid:\n",
        "        print(\"No valid grid data found.\")\n",
        "        return None, 0, 0\n",
        "\n",
        "    # Determine the dimensions of the grid\n",
        "    max_x = max(key[0] for key in grid.keys()) + 1\n",
        "    max_y = max(key[1] for key in grid.keys()) + 1\n",
        "\n",
        "    # Create a character grid filled with spaces\n",
        "    character_grid = [[' ' for _ in range(max_x)] for _ in range(max_y)]\n",
        "\n",
        "    # Fill in the grid with the characters\n",
        "    for (x, y), char in grid.items():\n",
        "        character_grid[y][x] = char\n",
        "\n",
        "    return character_grid, max_x, max_y\n",
        "\n",
        "def print_character_grid(character_grid):\n",
        "    \"\"\"Prints the character grid.\"\"\"\n",
        "    if not character_grid:\n",
        "        print(\"No character grid to print.\")\n",
        "        return\n",
        "    for row in character_grid:\n",
        "        print(''.join(row))\n",
        "\n",
        "def main(doc_url):\n",
        "    \"\"\"Main function to fetch, parse, and print the character grid.\"\"\"\n",
        "    content = fetch_doc_content(doc_url)\n",
        "    if content:\n",
        "        character_grid, max_x, max_y = parse_grid_data(content)\n",
        "        if character_grid:\n",
        "            print(f\"Parsed grid data with dimensions ({max_x}, {max_y})\")\n",
        "            print_character_grid(character_grid)\n",
        "        else:\n",
        "            print(\"Failed to generate character grid.\")\n",
        "\n",
        "if __name__ == \"__main__\":\n",
        "    doc_url = \"https://docs.google.com/document/d/e/2PACX-1vRMx5YQlZNa3ra8dYYxmv-QIQ3YJe8tbI3kqcuC7lQiZm-CSEznKfN_HYNSpoXcZIV3Y_O3YoUB1ecq/pub\"\n",
        "    main(doc_url)"
      ],
      "metadata": {
        "colab": {
          "base_uri": "https://localhost:8080/"
        },
        "id": "J-TEJ5et501V",
        "outputId": "b6e2dd16-9f82-4b31-9aa7-aab71013f40d"
      },
      "execution_count": null,
      "outputs": [
        {
          "output_type": "stream",
          "name": "stdout",
          "text": [
            "Parsed grid data with dimensions (4, 3)\n",
            "█   \n",
            "█▀▀ \n",
            "█▀▀▀\n"
          ]
        }
      ]
    }
  ]
}